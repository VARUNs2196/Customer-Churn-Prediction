{
 "cells": [
  {
   "cell_type": "code",
   "execution_count": 1,
   "id": "abc0835a-855c-4778-a82f-cdc16aed8b84",
   "metadata": {},
   "outputs": [],
   "source": [
    "import pandas as pd\n",
    "from sklearn.model_selection import train_test_split\n",
    "from sklearn.ensemble import RandomForestClassifier\n",
    "from sklearn.metrics import classification_report, accuracy_score\n",
    "import warnings"
   ]
  },
  {
   "cell_type": "code",
   "execution_count": 2,
   "id": "238177fc-eb98-426d-bd98-df67b26caa65",
   "metadata": {},
   "outputs": [],
   "source": [
    "warnings.filterwarnings('ignore')"
   ]
  },
  {
   "cell_type": "code",
   "execution_count": 3,
   "id": "c976cf8e-d87e-4b4b-ac80-9e88e2b49f95",
   "metadata": {},
   "outputs": [],
   "source": [
    "df = pd.read_csv(\"churn.csv\")"
   ]
  },
  {
   "cell_type": "code",
   "execution_count": 19,
   "id": "2b4320f5-bb25-460f-ade0-59a349ee8ea3",
   "metadata": {},
   "outputs": [
    {
     "name": "stdout",
     "output_type": "stream",
     "text": [
      "   gender  SeniorCitizen  Partner  Dependents  tenure  PhoneService  \\\n",
      "0       0              0        1           0       1             0   \n",
      "1       1              0        0           0      34             1   \n",
      "2       1              0        0           0       2             1   \n",
      "3       1              0        0           0      45             0   \n",
      "4       0              0        0           0       2             1   \n",
      "\n",
      "   MultipleLines  InternetService  OnlineSecurity  OnlineBackup  ...  \\\n",
      "0              0                1               0             1  ...   \n",
      "1              0                1               1             0  ...   \n",
      "2              0                1               1             1  ...   \n",
      "3              0                1               1             0  ...   \n",
      "4              0                2               0             0  ...   \n",
      "\n",
      "   StreamingMovies  PaperlessBilling  MonthlyCharges  TotalCharges  Churn  \\\n",
      "0                0                 1              29            29      0   \n",
      "1                0                 0              56          1889      0   \n",
      "2                0                 1              53           108      1   \n",
      "3                0                 0              42          1840      0   \n",
      "4                0                 1              70           151      1   \n",
      "\n",
      "   Contract_One year  Contract_Two year  \\\n",
      "0                  0                  0   \n",
      "1                  1                  0   \n",
      "2                  0                  0   \n",
      "3                  1                  0   \n",
      "4                  0                  0   \n",
      "\n",
      "   PaymentMethod_Credit card (automatic)  PaymentMethod_Electronic check  \\\n",
      "0                                      0                               1   \n",
      "1                                      0                               0   \n",
      "2                                      0                               0   \n",
      "3                                      0                               0   \n",
      "4                                      0                               1   \n",
      "\n",
      "   PaymentMethod_Mailed check  \n",
      "0                           0  \n",
      "1                           1  \n",
      "2                           1  \n",
      "3                           0  \n",
      "4                           0  \n",
      "\n",
      "[5 rows x 23 columns]\n"
     ]
    }
   ],
   "source": [
    "print(df.head())"
   ]
  },
  {
   "cell_type": "code",
   "execution_count": 18,
   "id": "33d71814-ea6c-4d0a-aaa8-5ee5933c6abc",
   "metadata": {},
   "outputs": [
    {
     "name": "stdout",
     "output_type": "stream",
     "text": [
      "<class 'pandas.core.frame.DataFrame'>\n",
      "Index: 7032 entries, 0 to 7042\n",
      "Data columns (total 23 columns):\n",
      " #   Column                                 Non-Null Count  Dtype\n",
      "---  ------                                 --------------  -----\n",
      " 0   gender                                 7032 non-null   int32\n",
      " 1   SeniorCitizen                          7032 non-null   int32\n",
      " 2   Partner                                7032 non-null   int32\n",
      " 3   Dependents                             7032 non-null   int32\n",
      " 4   tenure                                 7032 non-null   int32\n",
      " 5   PhoneService                           7032 non-null   int32\n",
      " 6   MultipleLines                          7032 non-null   int32\n",
      " 7   InternetService                        7032 non-null   int32\n",
      " 8   OnlineSecurity                         7032 non-null   int32\n",
      " 9   OnlineBackup                           7032 non-null   int32\n",
      " 10  DeviceProtection                       7032 non-null   int32\n",
      " 11  TechSupport                            7032 non-null   int32\n",
      " 12  StreamingTV                            7032 non-null   int32\n",
      " 13  StreamingMovies                        7032 non-null   int32\n",
      " 14  PaperlessBilling                       7032 non-null   int32\n",
      " 15  MonthlyCharges                         7032 non-null   int32\n",
      " 16  TotalCharges                           7032 non-null   int32\n",
      " 17  Churn                                  7032 non-null   int32\n",
      " 18  Contract_One year                      7032 non-null   int32\n",
      " 19  Contract_Two year                      7032 non-null   int32\n",
      " 20  PaymentMethod_Credit card (automatic)  7032 non-null   int32\n",
      " 21  PaymentMethod_Electronic check         7032 non-null   int32\n",
      " 22  PaymentMethod_Mailed check             7032 non-null   int32\n",
      "dtypes: int32(23)\n",
      "memory usage: 686.7 KB\n",
      "None\n"
     ]
    }
   ],
   "source": [
    "print(df.info())"
   ]
  },
  {
   "cell_type": "code",
   "execution_count": 6,
   "id": "12d61217-f4e1-4c1d-9ddf-cea2054408e2",
   "metadata": {},
   "outputs": [
    {
     "name": "stdout",
     "output_type": "stream",
     "text": [
      "OnlineBackup\n",
      "No                     3088\n",
      "Yes                    2429\n",
      "No internet service    1526\n",
      "Name: count, dtype: int64\n"
     ]
    }
   ],
   "source": [
    "print(df[\"OnlineBackup\"].value_counts())"
   ]
  },
  {
   "cell_type": "code",
   "execution_count": 7,
   "id": "91f6f224-33e8-4f9d-81d4-e158f612dd65",
   "metadata": {},
   "outputs": [],
   "source": [
    "df[\"TotalCharges\"] = pd.to_numeric(df[\"TotalCharges\"], errors=\"coerce\")\n",
    "df[\"MonthlyCharges\"] = pd.to_numeric(df[\"MonthlyCharges\"], errors=\"coerce\")"
   ]
  },
  {
   "cell_type": "code",
   "execution_count": 8,
   "id": "db11f459-8851-43ac-9f2b-5fa460e07106",
   "metadata": {},
   "outputs": [],
   "source": [
    "df = df.dropna()"
   ]
  },
  {
   "cell_type": "code",
   "execution_count": 9,
   "id": "731093c1-cc25-4438-960a-8366e68a0492",
   "metadata": {},
   "outputs": [],
   "source": [
    "df[\"Churn\"] = df[\"Churn\"].map({\"Yes\": 1, \"No\": 0})\n",
    "df[\"Partner\"] = df[\"Partner\"].map({\"Yes\": 1, \"No\": 0})\n",
    "df[\"gender\"] = df[\"gender\"].map({\"Male\": 1, \"Female\": 0})\n",
    "df[\"Dependents\"] = df[\"Dependents\"].map({\"Yes\": 1, \"No\": 0})\n",
    "df[\"PhoneService\"] = df[\"PhoneService\"].map({\"Yes\": 1, \"No\": 0})\n",
    "df[\"MultipleLines\"] = df[\"MultipleLines\"].map({\"Yes\": 1, \"No\": 0,\"No phone service\":0})\n",
    "df[\"InternetService\"] = df[\"InternetService\"].map({\"Fiber optic\":2,\"DSL\": 1, \"No\": 0})\n",
    "df[\"OnlineSecurity\"] = df[\"OnlineSecurity\"].map({\"Yes\": 1, \"No\": 0,\"No internet service\":0})\n",
    "df[\"DeviceProtection\"] = df[\"DeviceProtection\"].map({\"Yes\": 1, \"No\": 0,\"No internet service\":0})\n",
    "df[\"TechSupport\"] = df[\"TechSupport\"].map({\"Yes\": 1, \"No\": 0,\"No internet service\":0})\n",
    "df[\"StreamingTV\"] = df[\"StreamingTV\"].map({\"Yes\": 1, \"No\": 0,\"No internet service\":0})\n",
    "df[\"StreamingMovies\"] = df[\"StreamingMovies\"].map({\"Yes\": 1, \"No\": 0,\"No internet service\":0})\n",
    "\n",
    "df[\"OnlineBackup\"] = df[\"OnlineBackup\"].map({\"Yes\": 1, \"No\": 0,\"No internet service\":0})\n",
    "df[\"PaperlessBilling\"] = df[\"PaperlessBilling\"].map({\"Yes\": 1, \"No\": 0})"
   ]
  },
  {
   "cell_type": "code",
   "execution_count": 10,
   "id": "cb63782c-42b6-4dd4-a5a3-e581b00f9d31",
   "metadata": {},
   "outputs": [],
   "source": [
    "df = df.drop(columns=[\"customerID\"])"
   ]
  },
  {
   "cell_type": "code",
   "execution_count": 11,
   "id": "1115e36d-1421-4919-a6a9-b7b47cac540e",
   "metadata": {},
   "outputs": [],
   "source": [
    "cat_cols = df.select_dtypes(include=[\"object\"]).columns"
   ]
  },
  {
   "cell_type": "code",
   "execution_count": 12,
   "id": "ddebebb0-8602-43bc-8aff-f73f21f13bd7",
   "metadata": {},
   "outputs": [],
   "source": [
    "df = pd.get_dummies(df, columns=cat_cols, drop_first=True)\n",
    "df = df.astype(int)"
   ]
  },
  {
   "cell_type": "code",
   "execution_count": 13,
   "id": "548d3abd-ab19-4199-afbc-1500833fba26",
   "metadata": {},
   "outputs": [],
   "source": [
    "X = df.drop(\"Churn\", axis=1)\n",
    "y = df[\"Churn\"]\n",
    "X_train, X_test, y_train, y_test = train_test_split(X, y, test_size=0.2, random_state=42)"
   ]
  },
  {
   "cell_type": "code",
   "execution_count": 26,
   "id": "e5ecf4d5-ccc1-45a8-8507-c2e0d6015779",
   "metadata": {},
   "outputs": [
    {
     "name": "stdout",
     "output_type": "stream",
     "text": [
      "Accuracy: 0.7562189054726368\n",
      "              precision    recall  f1-score   support\n",
      "\n",
      "           0       0.85      0.81      0.83      1033\n",
      "           1       0.54      0.61      0.57       374\n",
      "\n",
      "    accuracy                           0.76      1407\n",
      "   macro avg       0.69      0.71      0.70      1407\n",
      "weighted avg       0.77      0.76      0.76      1407\n",
      "\n"
     ]
    }
   ],
   "source": [
    "model = RandomForestClassifier(\n",
    "    n_estimators=300,\n",
    "    max_depth=None,\n",
    "    min_samples_split=4,\n",
    "    min_samples_leaf=2,\n",
    "    max_features='sqrt',\n",
    "    class_weight='balanced',\n",
    "    random_state=42\n",
    ")\n",
    "# model = RandomForestClassifier(class_weight=\"balanced\")\n",
    "from imblearn.over_sampling import SMOTE\n",
    "\n",
    "smote = SMOTE()\n",
    "X_res, y_res = smote.fit_resample(X_train, y_train)\n",
    "model.fit(X_res, y_res)\n",
    "\n",
    "model.fit(X_res, y_res)\n",
    "\n",
    "preds = model.predict(X_test)\n",
    "print(\"Accuracy:\", accuracy_score(y_test, preds))\n",
    "print(classification_report(y_test, preds))\n"
   ]
  },
  {
   "cell_type": "code",
   "execution_count": 24,
   "id": "3f153b85-512e-4041-b2ca-64d6d63f2a76",
   "metadata": {},
   "outputs": [
    {
     "name": "stdout",
     "output_type": "stream",
     "text": [
      "Accuracy: 0.7512437810945274\n",
      "              precision    recall  f1-score   support\n",
      "\n",
      "           0       0.84      0.82      0.83      1033\n",
      "           1       0.53      0.57      0.55       374\n",
      "\n",
      "    accuracy                           0.75      1407\n",
      "   macro avg       0.69      0.69      0.69      1407\n",
      "weighted avg       0.76      0.75      0.75      1407\n",
      "\n"
     ]
    }
   ],
   "source": [
    "from xgboost import XGBClassifier\n",
    "\n",
    "model = XGBClassifier(\n",
    "    n_estimators=550,\n",
    "    max_depth=3,\n",
    "    learning_rate=0.3,\n",
    "    subsample=0.7,\n",
    "    colsample_bytree=0.7,\n",
    "    use_label_encoder=False,\n",
    "    eval_metric='logloss',\n",
    "    random_state=42\n",
    ")\n",
    "model.fit(X_res, y_res)\n",
    "preds = model.predict(X_test)\n",
    "print(\"Accuracy:\", accuracy_score(y_test, preds))\n",
    "print(classification_report(y_test, preds))"
   ]
  },
  {
   "cell_type": "markdown",
   "id": "83dcbee1-7fc8-4763-9e64-9b9a2d5f949b",
   "metadata": {},
   "source": [
    "from imblearn.over_sampling import SMOTE\n",
    "\n",
    "smote = SMOTE()\n",
    "X_res, y_res = smote.fit_resample(X_train, y_train)\n",
    "model.fit(X_res, y_res)\n"
   ]
  },
  {
   "cell_type": "code",
   "execution_count": 16,
   "id": "06810895-2597-4034-aac1-f943bdf352b8",
   "metadata": {},
   "outputs": [
    {
     "name": "stdout",
     "output_type": "stream",
     "text": [
      "Not Churn\n"
     ]
    }
   ],
   "source": [
    "sample = X_test.iloc[0]\n",
    "prediction = model.predict([sample])\n",
    "print(\"Churn\" if prediction[0] == 1 else \"Not Churn\")"
   ]
  }
 ],
 "metadata": {
  "kernelspec": {
   "display_name": "Python 3 (ipykernel)",
   "language": "python",
   "name": "python3"
  },
  "language_info": {
   "codemirror_mode": {
    "name": "ipython",
    "version": 3
   },
   "file_extension": ".py",
   "mimetype": "text/x-python",
   "name": "python",
   "nbconvert_exporter": "python",
   "pygments_lexer": "ipython3",
   "version": "3.12.7"
  }
 },
 "nbformat": 4,
 "nbformat_minor": 5
}
